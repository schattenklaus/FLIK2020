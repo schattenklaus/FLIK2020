{
 "cells": [
  {
   "cell_type": "code",
   "execution_count": 1,
   "metadata": {},
   "outputs": [
    {
     "name": "stdout",
     "output_type": "stream",
     "text": [
      "=== Python Version ============\n",
      "3.6.10 |Anaconda, Inc.| (default, Mar 26 2020, 00:22:27) \n",
      "[GCC 7.3.0]\n",
      "\n",
      "\n",
      "=== Python Interpreter Path ===\n",
      "/software/ml/JupyterHub/conda-env-20200827-2252/bin/python\n",
      "\n",
      "\n",
      "=== PYTHONPATH ================\n",
      "/software/ml/JupyterHub/conda-env-20200827-2252/lib/python36.zip\n",
      "/software/ml/JupyterHub/conda-env-20200827-2252/lib/python3.6\n",
      "/software/ml/JupyterHub/conda-env-20200827-2252/lib/python3.6/lib-dynload\n",
      "\n",
      "/software/ml/JupyterHub/conda-env-20200827-2252/lib/python3.6/site-packages\n",
      "/software/ml/JupyterHub/conda-env-20200827-2252/lib/python3.6/site-packages/IPython/extensions\n",
      "/home/h0/s1228964/.ipython\n"
     ]
    }
   ],
   "source": [
    "import numpy as np\n",
    "import matplotlib.pyplot as plt\n",
    "import sys\n",
    "\n",
    "print(\"=== Python Version ============\\n\" + sys.version + \"\\n\\n\")\n",
    "print(\"=== Python Interpreter Path ===\\n\" + sys.executable + \"\\n\\n\")\n",
    "print(\"=== PYTHONPATH ================\")\n",
    "for path in sys.path:\n",
    "    print(path)"
   ]
  },
  {
   "cell_type": "code",
   "execution_count": null,
   "metadata": {},
   "outputs": [],
   "source": []
  }
 ],
 "metadata": {
  "kernelspec": {
   "display_name": "Python 3",
   "language": "python",
   "name": "python3"
  },
  "language_info": {
   "codemirror_mode": {
    "name": "ipython",
    "version": 3
   },
   "file_extension": ".py",
   "mimetype": "text/x-python",
   "name": "python",
   "nbconvert_exporter": "python",
   "pygments_lexer": "ipython3",
   "version": "3.6.10"
  }
 },
 "nbformat": 4,
 "nbformat_minor": 4
}
